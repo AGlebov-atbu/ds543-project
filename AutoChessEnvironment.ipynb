{
 "cells": [
  {
   "cell_type": "markdown",
   "metadata": {
    "id": "yYYJw4A8SRLR"
   },
   "source": [
    "Imports:"
   ]
  },
  {
   "cell_type": "code",
   "execution_count": 19,
   "metadata": {
    "executionInfo": {
     "elapsed": 10,
     "status": "ok",
     "timestamp": 1744244870123,
     "user": {
      "displayName": "Kaya Daylor",
      "userId": "01558992142236140453"
     },
     "user_tz": 240
    },
    "id": "iowqsuqqSP9p"
   },
   "outputs": [],
   "source": [
    "import random\n",
    "import gymnasium as gym\n",
    "from gymnasium import spaces\n",
    "import numpy as np\n"
   ]
  },
  {
   "cell_type": "markdown",
   "metadata": {
    "id": "XrLrN9InTLkR"
   },
   "source": [
    "### **General Unit class**"
   ]
  },
  {
   "cell_type": "code",
   "execution_count": 20,
   "metadata": {
    "executionInfo": {
     "elapsed": 28,
     "status": "ok",
     "timestamp": 1744244870153,
     "user": {
      "displayName": "Kaya Daylor",
      "userId": "01558992142236140453"
     },
     "user_tz": 240
    },
    "id": "FhKuUZ3tJhn_"
   },
   "outputs": [],
   "source": [
    "class Unit:\n",
    "  \"\"\"\n",
    "    General unit class.\n",
    "  \"\"\"\n",
    "  def __init__(self, unit_name: str, unit_type: str, cost: int, star: int = 1):\n",
    "    self.unit_name = unit_name\n",
    "    self.unit_type = unit_type # We have three types of units: 1) \"Healer\", 2) \"Tank\", 3) \"Ranger\".\n",
    "    self.cost = cost\n",
    "    self.star = star  # Level of a unit: 1, 2, or 3.\n",
    "    self.hp = self.get_hp()\n",
    "    self.damage = self.get_damage()\n",
    "    self.ability_ready = False\n",
    "    self.attack_counter = 0 # After unit attacks 5 times - it can use ability.\n",
    "\n",
    "  def get_hp(self):\n",
    "    \"\"\"\n",
    "      Returns hp of a unit.\n",
    "    \"\"\"\n",
    "    # Dictionary of hp values for 1-star units\n",
    "    hp_values_1star = {\n",
    "        1: 500,\n",
    "        2: 650,\n",
    "        3: 800,\n",
    "        4: 950,\n",
    "        5: 1100\n",
    "    }\n",
    "\n",
    "    # Dictionary of multipliers for increasing hp based on level\n",
    "    star_multipliers = {\n",
    "        1: 1.0,\n",
    "        2: 1.5, # 50% increase\n",
    "        3: 2 # 100% increase\n",
    "    }\n",
    "\n",
    "    # Dictionary of unit types for increasing hp based on type\n",
    "    unit_type = {\n",
    "        \"Tank\" : 1.4, # 40% increase\n",
    "        \"Ranger\": 0.8, # 20% decrease\n",
    "        \"Healer\": 0.9 # 10% decrease\n",
    "    }\n",
    "\n",
    "    # Combine the guidelines from above to calculate the hp value\n",
    "    hp = int(hp_values_1star[self.cost] * star_multipliers[self.star] * unit_type[self.unit_type])\n",
    "    #hp = int(star_multipliers[self.star] * unit_type[self.unit_type])\n",
    "\n",
    "    return hp\n",
    "\n",
    "  def get_damage(self):\n",
    "    \"\"\"\n",
    "      Returns damage of a unit.\n",
    "    \"\"\"\n",
    "\n",
    "    # Dictionary of damage values for 1-star units\n",
    "    damage_values_1star = {\n",
    "        1: 70,\n",
    "        2: 80,\n",
    "        3: 90,\n",
    "        4: 100,\n",
    "        5: 120\n",
    "    }\n",
    "\n",
    "    # Dictionary of multipliers for increasing damage based on level\n",
    "    star_multipliers = {\n",
    "        1: 1.0,\n",
    "        2: 2, # 100% increase\n",
    "        3: 3 # 200% increase\n",
    "    }\n",
    "\n",
    "    # Dictionary of unit types for increasing damage based on type\n",
    "    unit_type = {\n",
    "        \"Tank\" : 0.7, # 30% decrease\n",
    "        \"Ranger\": 1.5, # 50% increase\n",
    "        \"Healer\": 0.9 # 10% decrease\n",
    "    }\n",
    "\n",
    "    # Combine the guidelines from above to calculate the damage value\n",
    "    damage = int(damage_values_1star[self.cost] * star_multipliers[self.star] * unit_type[self.unit_type])\n",
    "    #damage = int(star_multipliers[self.star] * unit_type[self.unit_type])\n",
    "\n",
    "    return damage\n",
    "\n",
    "  def attack(self):\n",
    "    \"\"\"\n",
    "      Stacks attacks counter to gain ability.\n",
    "    \"\"\"\n",
    "    self.attack_counter += 1\n",
    "    if self.attack_counter == 5:\n",
    "      self.ability_ready = True\n",
    "\n",
    "  def reset_ability_charge(self):\n",
    "    \"\"\"\n",
    "      Resets the ability.\n",
    "    \"\"\"\n",
    "    self.attack_counter = 0\n",
    "    self.ability_ready = False\n",
    "\n",
    "  def __repr__(self):\n",
    "    \"\"\"\n",
    "      Returns a string representation of the unit (debugging purposes).\n",
    "    \"\"\"\n",
    "    return f\"<{self.star}★ {self.unit_name}, type:{self.unit_type} ({self.cost}-cost) - {self.hp} HP, {self.damage} damage>\""
   ]
  },
  {
   "cell_type": "code",
   "execution_count": 21,
   "metadata": {
    "colab": {
     "base_uri": "https://localhost:8080/"
    },
    "executionInfo": {
     "elapsed": 76,
     "status": "ok",
     "timestamp": 1744244870233,
     "user": {
      "displayName": "Kaya Daylor",
      "userId": "01558992142236140453"
     },
     "user_tz": 240
    },
    "id": "ndiegUD9Ha7p",
    "outputId": "55780d29-f276-4066-bb35-6a6e9179f124"
   },
   "outputs": [
    {
     "name": "stdout",
     "output_type": "stream",
     "text": [
      "<1★ Silent, type:Ranger (1-cost) - 400 HP, 105 damage>\n",
      "<1★ Flamy, type:Ranger (1-cost) - 400 HP, 105 damage>\n",
      "<1★ Cheddy, type:Ranger (1-cost) - 400 HP, 105 damage>\n",
      "<1★ Hertrude, type:Ranger (1-cost) - 400 HP, 105 damage>\n",
      "<1★ Brim, type:Tank (1-cost) - 700 HP, 49 damage>\n",
      "<1★ Bravos, type:Tank (1-cost) - 700 HP, 49 damage>\n",
      "<1★ Lorak, type:Tank (1-cost) - 700 HP, 49 damage>\n",
      "<1★ Kiros, type:Tank (1-cost) - 700 HP, 49 damage>\n",
      "<1★ Mary, type:Healer (1-cost) - 450 HP, 63 damage>\n",
      "<1★ Looney, type:Healer (1-cost) - 450 HP, 63 damage>\n",
      "<1★ Kitana, type:Healer (1-cost) - 450 HP, 63 damage>\n",
      "<1★ Miss Luis, type:Healer (1-cost) - 450 HP, 63 damage>\n",
      "<1★ Marko, type:Ranger (2-cost) - 520 HP, 120 damage>\n",
      "<1★ Colt, type:Ranger (2-cost) - 520 HP, 120 damage>\n",
      "<1★ Kana, type:Ranger (2-cost) - 520 HP, 120 damage>\n",
      "<1★ Morfus, type:Tank (2-cost) - 909 HP, 56 damage>\n",
      "<1★ Sol, type:Tank (2-cost) - 909 HP, 56 damage>\n",
      "<1★ Kemer, type:Tank (2-cost) - 909 HP, 56 damage>\n",
      "<1★ Pronto, type:Tank (2-cost) - 909 HP, 56 damage>\n",
      "<1★ Summer, type:Healer (2-cost) - 585 HP, 72 damage>\n",
      "<1★ Clover, type:Healer (2-cost) - 585 HP, 72 damage>\n",
      "<1★ Pishta, type:Healer (2-cost) - 585 HP, 72 damage>\n",
      "<1★ Bruno, type:Ranger (3-cost) - 640 HP, 135 damage>\n",
      "<1★ Tofa, type:Ranger (3-cost) - 640 HP, 135 damage>\n",
      "<1★ Monroe, type:Ranger (3-cost) - 640 HP, 135 damage>\n",
      "<1★ Krusty, type:Tank (3-cost) - 1120 HP, 62 damage>\n",
      "<1★ Kenny, type:Tank (3-cost) - 1120 HP, 62 damage>\n",
      "<1★ Kanye, type:Tank (3-cost) - 1120 HP, 62 damage>\n",
      "<1★ Ashley, type:Healer (3-cost) - 720 HP, 81 damage>\n",
      "<1★ Bonny, type:Healer (3-cost) - 720 HP, 81 damage>\n",
      "<1★ Kaneki Ken, type:Ranger (4-cost) - 760 HP, 150 damage>\n",
      "<1★ Satoru Gojo, type:Ranger (4-cost) - 760 HP, 150 damage>\n",
      "<1★ Gabimaru, type:Ranger (4-cost) - 760 HP, 150 damage>\n",
      "<1★ Toochka, type:Tank (4-cost) - 1330 HP, 70 damage>\n",
      "<1★ MnSano, type:Tank (4-cost) - 1330 HP, 70 damage>\n",
      "<1★ Avotushenka, type:Healer (4-cost) - 855 HP, 90 damage>\n",
      "<1★ Keysella, type:Ranger (5-cost) - 880 HP, 180 damage>\n",
      "<1★ Maikeru, type:Tank (5-cost) - 1540 HP, 84 damage>\n",
      "<1★ Militmi, type:Healer (5-cost) - 990 HP, 108 damage>\n"
     ]
    }
   ],
   "source": [
    "all_units_names_role_and_cost = {\n",
    "    # 1 cost\n",
    "    \"Silent\": (\"Ranger\", 1), \"Flamy\": (\"Ranger\", 1), \"Cheddy\": (\"Ranger\", 1), \"Hertrude\": (\"Ranger\", 1),\n",
    "    \"Brim\": (\"Tank\", 1), \"Bravos\": (\"Tank\", 1), \"Lorak\": (\"Tank\", 1), \"Kiros\": (\"Tank\", 1),\n",
    "    \"Mary\": (\"Healer\", 1), \"Looney\": (\"Healer\", 1), \"Kitana\": (\"Healer\", 1), \"Miss Luis\": (\"Healer\", 1),\n",
    "    # 2 cost\n",
    "    \"Marko\": (\"Ranger\", 2), \"Colt\": (\"Ranger\", 2), \"Kana\": (\"Ranger\", 2),\n",
    "    \"Morfus\": (\"Tank\", 2), \"Sol\": (\"Tank\", 2), \"Kemer\": (\"Tank\", 2), \"Pronto\": (\"Tank\", 2),\n",
    "    \"Summer\": (\"Healer\", 2), \"Clover\": (\"Healer\", 2), \"Pishta\": (\"Healer\", 2),\n",
    "    # 3 cost\n",
    "    \"Bruno\": (\"Ranger\", 3), \"Tofa\": (\"Ranger\", 3), \"Monroe\": (\"Ranger\", 3),\n",
    "    \"Krusty\": (\"Tank\", 3), \"Kenny\": (\"Tank\", 3), \"Kanye\": (\"Tank\", 3),\n",
    "    \"Ashley\": (\"Healer\", 3), \"Bonny\": (\"Healer\", 3),\n",
    "    # 4 cost\n",
    "    \"Kaneki Ken\": (\"Ranger\", 4), \"Satoru Gojo\": (\"Ranger\", 4), \"Gabimaru\": (\"Ranger\", 4),\n",
    "    \"Toochka\": (\"Tank\", 4), \"MnSano\": (\"Tank\", 4),\n",
    "    \"Avotushenka\": (\"Healer\", 4),\n",
    "    # 5 cost\n",
    "    \"Keysella\": (\"Ranger\", 5),\n",
    "    \"Maikeru\": (\"Tank\", 5),\n",
    "    \"Militmi\": (\"Healer\", 5)\n",
    "}\n",
    "\n",
    "all_units_list = []\n",
    "\n",
    "for name, (role, cost) in all_units_names_role_and_cost.items():\n",
    "  all_units_list.append(Unit(name, role, cost))\n",
    "\n",
    "for unit in all_units_list:\n",
    "  print(unit)"
   ]
  },
  {
   "cell_type": "code",
   "execution_count": 22,
   "metadata": {
    "colab": {
     "base_uri": "https://localhost:8080/"
    },
    "executionInfo": {
     "elapsed": 100,
     "status": "ok",
     "timestamp": 1744244870380,
     "user": {
      "displayName": "Kaya Daylor",
      "userId": "01558992142236140453"
     },
     "user_tz": 240
    },
    "id": "X1xyIDh2Hbck",
    "outputId": "12dbeeea-4064-46c0-f11e-a3b673be1899"
   },
   "outputs": [
    {
     "name": "stdout",
     "output_type": "stream",
     "text": [
      "<3★ Silent, type:Ranger (5-cost) - 1760 HP, 540 damage>\n"
     ]
    }
   ],
   "source": [
    "# Tests\n",
    "lilBabyRanger = Unit(\"Silent\", \"Ranger\", 5, 3)\n",
    "print(lilBabyRanger)"
   ]
  },
  {
   "cell_type": "markdown",
   "metadata": {
    "id": "kYnzvtex-YJ0"
   },
   "source": [
    "### **Player Class 😎**"
   ]
  },
  {
   "cell_type": "code",
   "execution_count": 23,
   "metadata": {
    "executionInfo": {
     "elapsed": 1,
     "status": "ok",
     "timestamp": 1744244870382,
     "user": {
      "displayName": "Kaya Daylor",
      "userId": "01558992142236140453"
     },
     "user_tz": 240
    },
    "id": "S11ndtzUJjTY"
   },
   "outputs": [],
   "source": [
    "class Player:\n",
    "  \"\"\"\n",
    "    General player class.\n",
    "  \"\"\"\n",
    "  def __init__(self, name: str):\n",
    "    self.name = name\n",
    "    # Starting gold, level, hp, and no units for every player.\n",
    "    self.gold = 13\n",
    "    self.level = 3\n",
    "    self.max_units_on_board = self.level\n",
    "    self.hp = 100\n",
    "    self.board = [[None for _ in range(8)] for _ in range(4)]\n",
    "    self.bench = [None for _ in range(8)]\n",
    "    self.all_units = []\n",
    "    self.shop = Shop(all_units_list, self.level)\n",
    "    self.won_last_fight = False\n",
    "\n",
    "  def gain_gold(self):\n",
    "    \"\"\"\n",
    "      Gain gold - method that triggers every start of the round. Player gets:\n",
    "        1) + win bonus if they won last fight;\n",
    "        2) + interest rate (no more than 5);\n",
    "        3) + 9 gold.\n",
    "    \"\"\"\n",
    "    # Win bonus.\n",
    "    win_bonus = 0\n",
    "    if self.won_last_fight:\n",
    "      win_bonus = 1\n",
    "\n",
    "    # Interest rate.\n",
    "    interest_rate = self.gold // 10\n",
    "    if interest_rate > 5:\n",
    "      interest_rate = 5\n",
    "\n",
    "    # Gaining gold.\n",
    "    self.gold += 9 + win_bonus + interest_rate\n",
    "  \n",
    "  def refresh_shop(self):\n",
    "    if self.gold >= 2:\n",
    "      self.gold -= 2\n",
    "      self.shop.update(self.level)\n",
    "\n",
    "  def buy_unit_from_shop(self, unit):\n",
    "    \"\"\"\n",
    "      Buy a unit from shop.\n",
    "    \"\"\"\n",
    "    if unit is None:\n",
    "      return False\n",
    "    \n",
    "    if self.gold < unit.cost:\n",
    "      return False\n",
    "\n",
    "    for i in range(8):\n",
    "      if self.bench[i] is None:\n",
    "        self.bench[i] = unit\n",
    "        self.all_units.append(unit)\n",
    "        self.gold -= unit.cost\n",
    "        return True\n",
    "    return False\n",
    "  \n",
    "  def buy_unit(self, shop_index):\n",
    "    \"\"\"\n",
    "      Buy_unit_from_shop() function wrapper.\n",
    "    \"\"\"\n",
    "    unit = self.shop.units_in_shop[shop_index]\n",
    "    success = self.buy_unit_from_shop(unit)\n",
    "    if success:\n",
    "        self.shop.remove(unit)\n",
    "    return success\n",
    "\n",
    "  def sell_unit(self, unit):\n",
    "    \"\"\"\n",
    "      Sells a unit.\n",
    "    \"\"\"\n",
    "    self.all_units.remove(unit)\n",
    "    self.gold += unit.cost * unit.star\n",
    "    if unit in self.bench:\n",
    "      for i in range(8):\n",
    "        if self.bench[i] == unit:\n",
    "          self.bench[i] = None\n",
    "          break\n",
    "    elif unit in self.board:\n",
    "      for i in range(4):\n",
    "        for j in range(8):\n",
    "          if self.board[i][j] == unit:\n",
    "            self.board[i][j] = None\n",
    "            break"
   ]
  },
  {
   "cell_type": "markdown",
   "metadata": {
    "id": "RF9Z3e5E-ksT"
   },
   "source": [
    "### **Shop Class**"
   ]
  },
  {
   "cell_type": "code",
   "execution_count": 24,
   "metadata": {
    "executionInfo": {
     "elapsed": 2,
     "status": "ok",
     "timestamp": 1744244870488,
     "user": {
      "displayName": "Kaya Daylor",
      "userId": "01558992142236140453"
     },
     "user_tz": 240
    },
    "id": "jz9rqCAv-kaR"
   },
   "outputs": [],
   "source": [
    "# I just started it on random, you can change anything (Alex).\n",
    "# I am working on all_units_lsit. Treat it as a list of units (objects of unit class).\n",
    "class Shop:\n",
    "  \"\"\"\n",
    "    General shop class.\n",
    "  \"\"\"\n",
    "  def __init__(self, all_units_list, player_level):\n",
    "    self.units_in_shop = [None] * 5 # List of the 5 units to choose from\n",
    "    self.all_units_list = all_units_list # List of all available units\n",
    "    self.fill_shop(player_level) # Fill the shop with units initially\n",
    "  \n",
    "  def update(self, player_level):\n",
    "    \"\"\"\n",
    "    Updates (rerolls) the shop. Should be called if player pays 2 gold.\n",
    "    \"\"\"\n",
    "    self.fill_shop(player_level)\n",
    "\n",
    "  def fill_shop(self, player_level):\n",
    "    \"\"\"\n",
    "      Fills the shop with units.\n",
    "    \"\"\"\n",
    "    self.units_in_shop = [None] * 5 # Reset the shop\n",
    "    probabilities = self.get_probabilities(player_level) # Get probabilities for each unit\n",
    "\n",
    "    for i in range(5):\n",
    "      roll = random.random() * 100\n",
    "      cumulative_prob = 0\n",
    "      selected_cost = 1\n",
    "\n",
    "      for cost, prob in probabilities.items():\n",
    "        cumulative_prob += prob\n",
    "        if roll <= cumulative_prob:\n",
    "          selected_cost = cost\n",
    "          break\n",
    "      cost_units = [unit for unit in self.all_units_list if unit.cost == selected_cost]\n",
    "\n",
    "      # Select a random unit if available\n",
    "      if cost_units:\n",
    "        self.units_in_shop[i] = random.choice(cost_units)\n",
    "\n",
    "  def get_probabilities(self, player_level):\n",
    "    \"\"\"\n",
    "      Returns a list of probabilities for each unit in the shop.\n",
    "    \"\"\"\n",
    "    # Probability distributions for each unit in the shop\n",
    "    distributions = {\n",
    "        3: {1: 75, 2: 25, 3: 0, 4: 0, 5: 0}, # Start with 3 level\n",
    "        4: {1: 60, 2: 30, 3: 10, 4: 0, 5: 0},\n",
    "        5: {1: 40, 2: 35, 3: 20, 4: 5, 5: 0},\n",
    "        6: {1: 25, 2: 40, 3: 25, 4: 10, 5: 0},\n",
    "        7: {1: 15, 2: 30, 3: 35, 4: 15, 5: 5},\n",
    "        8: {1: 10, 2: 20, 3: 25, 4: 35, 5: 10},\n",
    "        9: {1: 5, 2: 15, 3: 20, 4: 40, 5: 20}, # 9 levels max\n",
    "    }\n",
    "\n",
    "    return distributions[player_level]\n",
    "\n",
    "  def remove(self, unit):\n",
    "    \"\"\"\n",
    "      Removes a unit from the shop.\n",
    "    \"\"\"\n",
    "\n",
    "    for i in range(len(self.units_in_shop)):\n",
    "      if self.units_in_shop[i] == unit:\n",
    "        self.units_in_shop[i] = None\n",
    "        return True\n",
    "    return False\n",
    "\n",
    "  def __repr__(self):\n",
    "    \"\"\"\n",
    "      Returns a string representation of the unit (debugging purposes).\n",
    "    \"\"\"\n",
    "    unit_names = [str(unit) if unit else \"Empty\" for unit in self.units_in_shop]\n",
    "    return f\"Shop: {unit_names}\"\n"
   ]
  },
  {
   "cell_type": "code",
   "execution_count": 25,
   "metadata": {
    "colab": {
     "base_uri": "https://localhost:8080/",
     "height": 299
    },
    "executionInfo": {
     "elapsed": 100,
     "status": "error",
     "timestamp": 1744244870589,
     "user": {
      "displayName": "Kaya Daylor",
      "userId": "01558992142236140453"
     },
     "user_tz": 240
    },
    "id": "ahK0S6RtOd1h",
    "outputId": "aff49299-b093-4102-8156-5b365ed64250"
   },
   "outputs": [
    {
     "name": "stdout",
     "output_type": "stream",
     "text": [
      "13\n",
      "Shop: ['<1★ Bravos, type:Tank (1-cost) - 700 HP, 49 damage>', '<1★ Sol, type:Tank (2-cost) - 909 HP, 56 damage>', '<1★ Pishta, type:Healer (2-cost) - 585 HP, 72 damage>', '<1★ Looney, type:Healer (1-cost) - 450 HP, 63 damage>', '<1★ Kitana, type:Healer (1-cost) - 450 HP, 63 damage>']\n"
     ]
    }
   ],
   "source": [
    "# Testing shop working with a player.\n",
    "player = Player(\"Alex\")\n",
    "print(player.gold)\n",
    "print(player.shop)"
   ]
  },
  {
   "cell_type": "code",
   "execution_count": 26,
   "metadata": {},
   "outputs": [],
   "source": [
    "player.refresh_shop()"
   ]
  },
  {
   "cell_type": "code",
   "execution_count": 27,
   "metadata": {},
   "outputs": [
    {
     "name": "stdout",
     "output_type": "stream",
     "text": [
      "11\n",
      "Shop: ['<1★ Pronto, type:Tank (2-cost) - 909 HP, 56 damage>', '<1★ Looney, type:Healer (1-cost) - 450 HP, 63 damage>', '<1★ Hertrude, type:Ranger (1-cost) - 400 HP, 105 damage>', '<1★ Flamy, type:Ranger (1-cost) - 400 HP, 105 damage>', '<1★ Lorak, type:Tank (1-cost) - 700 HP, 49 damage>']\n"
     ]
    }
   ],
   "source": [
    "print(player.gold)\n",
    "print(player.shop)"
   ]
  },
  {
   "cell_type": "code",
   "execution_count": 28,
   "metadata": {},
   "outputs": [
    {
     "data": {
      "text/plain": [
       "True"
      ]
     },
     "execution_count": 28,
     "metadata": {},
     "output_type": "execute_result"
    }
   ],
   "source": [
    "player.buy_unit(0)"
   ]
  },
  {
   "cell_type": "code",
   "execution_count": 29,
   "metadata": {},
   "outputs": [
    {
     "name": "stdout",
     "output_type": "stream",
     "text": [
      "9\n",
      "Shop: ['Empty', '<1★ Looney, type:Healer (1-cost) - 450 HP, 63 damage>', '<1★ Hertrude, type:Ranger (1-cost) - 400 HP, 105 damage>', '<1★ Flamy, type:Ranger (1-cost) - 400 HP, 105 damage>', '<1★ Lorak, type:Tank (1-cost) - 700 HP, 49 damage>']\n",
      "[<1★ Pronto, type:Tank (2-cost) - 909 HP, 56 damage>, None, None, None, None, None, None, None]\n"
     ]
    }
   ],
   "source": [
    "print(player.gold)\n",
    "print(player.shop)\n",
    "print(player.bench)"
   ]
  },
  {
   "cell_type": "markdown",
   "metadata": {
    "id": "IO5j644GRlMo"
   },
   "source": [
    "### **Environment?**"
   ]
  },
  {
   "cell_type": "code",
   "execution_count": 30,
   "metadata": {},
   "outputs": [],
   "source": [
    "player1 = Player(\"Player 1\")\n",
    "player2 = Player(\"Player 2\")"
   ]
  },
  {
   "cell_type": "code",
   "execution_count": 31,
   "metadata": {
    "executionInfo": {
     "elapsed": 599,
     "status": "aborted",
     "timestamp": 1744244870602,
     "user": {
      "displayName": "Kaya Daylor",
      "userId": "01558992142236140453"
     },
     "user_tz": 240
    },
    "id": "JXTF1X1OJjXc"
   },
   "outputs": [],
   "source": [
    "END_TURN_ACTION = 7\n",
    "\n",
    "class TFTEnv(gym.Env):\n",
    "    def __init__(self):\n",
    "        super().__init__()\n",
    "\n",
    "        # Player initialization.\n",
    "        self.player1 = player1\n",
    "        self.player2 = player2\n",
    "        self.current_player = self.player1\n",
    "\n",
    "        # Maximum number of steps before fight.\n",
    "        self.max_steps_per_round = 50\n",
    "        self.steps_this_round = 0\n",
    "\n",
    "        # TODO - I am not sure about it.\n",
    "        self.action_space = spaces.Discrete(8)  # 0-4: buy a unit, 5: reroll shop, 6: level up, 7: END_TURN_ACTION\n",
    "        self.observation_space = spaces.Dict({\n",
    "            \"gold\": spaces.Box(low=0, high=np.inf, shape=(), dtype=np.float32),\n",
    "            \"health\": spaces.Discrete(101),\n",
    "            \"shop\": spaces.MultiDiscrete([6] * 5),\n",
    "        })\n",
    "\n",
    "        self.done = False\n",
    "\n",
    "    def reset(self, seed=None, options=None):\n",
    "        self.player1 = player1\n",
    "        self.player2 = player2\n",
    "        self.current_player = self.player1\n",
    "        self.steps_this_round = 0\n",
    "        self.done = False\n",
    "\n",
    "        observation = self.get_observation()\n",
    "        return observation, {}\n",
    "\n",
    "    def step(self, action):\n",
    "        \"\"\"\n",
    "            Make an action.\n",
    "        \"\"\"\n",
    "\n",
    "        if self.done:\n",
    "            raise Exception(\"Game is over. Call reset().\")\n",
    "\n",
    "        reward = 0\n",
    "\n",
    "        # Actions:\n",
    "        if action in range(5):  # Buy 1 out of 5 units from the shop.\n",
    "            unit = self.current_player.shop.units_in_shop[action]\n",
    "            if unit and self.current_player.gold >= unit.cost:\n",
    "                self.current_player.buy_unit(action)  # Changed: pass action (index) instead of unit\n",
    "                self.current_player.shop.remove(unit)\n",
    "        elif action == 5:  # Reroll the shop.\n",
    "            if self.current_player.gold >= 2:\n",
    "                self.current_player.gold -= 2\n",
    "                self.current_player.shop.update(self.current_player.level)\n",
    "        elif action == 6:  # Level up.\n",
    "            if self.current_player.gold >= 4:\n",
    "                self.current_player.gold -= 4\n",
    "                self.current_player.level += 1\n",
    "        elif action == END_TURN_ACTION:  # End player's turn.\n",
    "            self.start_fight()\n",
    "\n",
    "        # Count steps in a round.\n",
    "        self.steps_this_round += 1\n",
    "\n",
    "        # Check if the fight can start.\n",
    "        if self.steps_this_round >= self.max_steps_per_round:\n",
    "            self.start_fight()\n",
    "\n",
    "        # Check the final health.\n",
    "        if self.player1.hp <= 0 or self.player2.hp <= 0:\n",
    "            self.done = True\n",
    "\n",
    "        observation = self.get_observation()\n",
    "        return observation, reward, self.done, False, {}\n",
    "\n",
    "    def start_fight(self):\n",
    "        \"\"\"\n",
    "            Start the fight.\n",
    "        \"\"\"\n",
    "        self.steps_this_round = 0  # Reset the counter.\n",
    "\n",
    "        # Make random winner (for now).\n",
    "        winner = random.choice([self.player1, self.player2])\n",
    "        loser = self.player1 if winner == self.player2 else self.player2\n",
    "\n",
    "        loser.hp -= 10  # Lose 10 hp for a loss.\n",
    "\n",
    "    def get_observation(self):\n",
    "        \"\"\"\n",
    "            Return current player's observation.\n",
    "        \"\"\"\n",
    "        shop_obs = [0 if unit is None else unit.cost for unit in self.current_player.shop.units_in_shop]\n",
    "        return {\n",
    "            \"gold\": float(self.current_player.gold),\n",
    "            \"hp\": self.current_player.hp,\n",
    "            \"shop\": np.array(shop_obs, dtype=np.int64),\n",
    "        }\n"
   ]
  },
  {
   "cell_type": "code",
   "execution_count": 32,
   "metadata": {},
   "outputs": [
    {
     "name": "stdout",
     "output_type": "stream",
     "text": [
      "{'gold': 12.0, 'hp': 100, 'shop': array([1, 1, 2, 0, 1])}\n",
      "{'gold': 11.0, 'hp': 100, 'shop': array([1, 0, 2, 0, 1])}\n",
      "{'gold': 11.0, 'hp': 100, 'shop': array([1, 0, 2, 0, 1])}\n",
      "{'gold': 10.0, 'hp': 100, 'shop': array([0, 0, 2, 0, 1])}\n",
      "{'gold': 10.0, 'hp': 100, 'shop': array([0, 0, 2, 0, 1])}\n",
      "{'gold': 10.0, 'hp': 90, 'shop': array([0, 0, 2, 0, 1])}\n",
      "{'gold': 10.0, 'hp': 90, 'shop': array([0, 0, 2, 0, 1])}\n",
      "{'gold': 10.0, 'hp': 90, 'shop': array([0, 0, 2, 0, 1])}\n",
      "{'gold': 6.0, 'hp': 90, 'shop': array([0, 0, 2, 0, 1])}\n",
      "{'gold': 4.0, 'hp': 90, 'shop': array([0, 0, 0, 0, 1])}\n",
      "{'gold': 4.0, 'hp': 90, 'shop': array([0, 0, 0, 0, 1])}\n",
      "{'gold': 2.0, 'hp': 90, 'shop': array([1, 2, 1, 3, 1])}\n",
      "{'gold': 0.0, 'hp': 90, 'shop': array([1, 2, 3, 2, 3])}\n",
      "{'gold': 0.0, 'hp': 90, 'shop': array([1, 2, 3, 2, 3])}\n",
      "{'gold': 0.0, 'hp': 90, 'shop': array([1, 2, 3, 2, 3])}\n",
      "{'gold': 0.0, 'hp': 90, 'shop': array([1, 2, 3, 2, 3])}\n",
      "{'gold': 0.0, 'hp': 90, 'shop': array([1, 2, 3, 2, 3])}\n",
      "{'gold': 0.0, 'hp': 90, 'shop': array([1, 2, 3, 2, 3])}\n",
      "{'gold': 0.0, 'hp': 90, 'shop': array([1, 2, 3, 2, 3])}\n",
      "{'gold': 0.0, 'hp': 90, 'shop': array([1, 2, 3, 2, 3])}\n",
      "{'gold': 0.0, 'hp': 90, 'shop': array([1, 2, 3, 2, 3])}\n",
      "{'gold': 0.0, 'hp': 90, 'shop': array([1, 2, 3, 2, 3])}\n",
      "{'gold': 0.0, 'hp': 90, 'shop': array([1, 2, 3, 2, 3])}\n",
      "{'gold': 0.0, 'hp': 90, 'shop': array([1, 2, 3, 2, 3])}\n",
      "{'gold': 0.0, 'hp': 90, 'shop': array([1, 2, 3, 2, 3])}\n",
      "{'gold': 0.0, 'hp': 90, 'shop': array([1, 2, 3, 2, 3])}\n",
      "{'gold': 0.0, 'hp': 90, 'shop': array([1, 2, 3, 2, 3])}\n",
      "{'gold': 0.0, 'hp': 90, 'shop': array([1, 2, 3, 2, 3])}\n",
      "{'gold': 0.0, 'hp': 90, 'shop': array([1, 2, 3, 2, 3])}\n",
      "{'gold': 0.0, 'hp': 90, 'shop': array([1, 2, 3, 2, 3])}\n",
      "{'gold': 0.0, 'hp': 90, 'shop': array([1, 2, 3, 2, 3])}\n",
      "{'gold': 0.0, 'hp': 90, 'shop': array([1, 2, 3, 2, 3])}\n",
      "{'gold': 0.0, 'hp': 90, 'shop': array([1, 2, 3, 2, 3])}\n",
      "{'gold': 0.0, 'hp': 90, 'shop': array([1, 2, 3, 2, 3])}\n",
      "{'gold': 0.0, 'hp': 90, 'shop': array([1, 2, 3, 2, 3])}\n",
      "{'gold': 0.0, 'hp': 90, 'shop': array([1, 2, 3, 2, 3])}\n",
      "{'gold': 0.0, 'hp': 90, 'shop': array([1, 2, 3, 2, 3])}\n",
      "{'gold': 0.0, 'hp': 90, 'shop': array([1, 2, 3, 2, 3])}\n",
      "{'gold': 0.0, 'hp': 90, 'shop': array([1, 2, 3, 2, 3])}\n",
      "{'gold': 0.0, 'hp': 90, 'shop': array([1, 2, 3, 2, 3])}\n",
      "{'gold': 0.0, 'hp': 90, 'shop': array([1, 2, 3, 2, 3])}\n",
      "{'gold': 0.0, 'hp': 90, 'shop': array([1, 2, 3, 2, 3])}\n",
      "{'gold': 0.0, 'hp': 90, 'shop': array([1, 2, 3, 2, 3])}\n",
      "{'gold': 0.0, 'hp': 90, 'shop': array([1, 2, 3, 2, 3])}\n",
      "{'gold': 0.0, 'hp': 90, 'shop': array([1, 2, 3, 2, 3])}\n",
      "{'gold': 0.0, 'hp': 90, 'shop': array([1, 2, 3, 2, 3])}\n",
      "{'gold': 0.0, 'hp': 90, 'shop': array([1, 2, 3, 2, 3])}\n",
      "{'gold': 0.0, 'hp': 90, 'shop': array([1, 2, 3, 2, 3])}\n",
      "{'gold': 0.0, 'hp': 90, 'shop': array([1, 2, 3, 2, 3])}\n",
      "{'gold': 0.0, 'hp': 90, 'shop': array([1, 2, 3, 2, 3])}\n",
      "{'gold': 0.0, 'hp': 90, 'shop': array([1, 2, 3, 2, 3])}\n",
      "{'gold': 0.0, 'hp': 90, 'shop': array([1, 2, 3, 2, 3])}\n",
      "{'gold': 0.0, 'hp': 90, 'shop': array([1, 2, 3, 2, 3])}\n",
      "{'gold': 0.0, 'hp': 90, 'shop': array([1, 2, 3, 2, 3])}\n",
      "{'gold': 0.0, 'hp': 90, 'shop': array([1, 2, 3, 2, 3])}\n",
      "{'gold': 0.0, 'hp': 90, 'shop': array([1, 2, 3, 2, 3])}\n",
      "{'gold': 0.0, 'hp': 90, 'shop': array([1, 2, 3, 2, 3])}\n",
      "{'gold': 0.0, 'hp': 90, 'shop': array([1, 2, 3, 2, 3])}\n",
      "{'gold': 0.0, 'hp': 90, 'shop': array([1, 2, 3, 2, 3])}\n",
      "{'gold': 0.0, 'hp': 90, 'shop': array([1, 2, 3, 2, 3])}\n",
      "{'gold': 0.0, 'hp': 90, 'shop': array([1, 2, 3, 2, 3])}\n",
      "{'gold': 0.0, 'hp': 80, 'shop': array([1, 2, 3, 2, 3])}\n",
      "{'gold': 0.0, 'hp': 80, 'shop': array([1, 2, 3, 2, 3])}\n",
      "{'gold': 0.0, 'hp': 80, 'shop': array([1, 2, 3, 2, 3])}\n",
      "{'gold': 0.0, 'hp': 80, 'shop': array([1, 2, 3, 2, 3])}\n",
      "{'gold': 0.0, 'hp': 70, 'shop': array([1, 2, 3, 2, 3])}\n",
      "{'gold': 0.0, 'hp': 60, 'shop': array([1, 2, 3, 2, 3])}\n",
      "{'gold': 0.0, 'hp': 60, 'shop': array([1, 2, 3, 2, 3])}\n",
      "{'gold': 0.0, 'hp': 60, 'shop': array([1, 2, 3, 2, 3])}\n",
      "{'gold': 0.0, 'hp': 60, 'shop': array([1, 2, 3, 2, 3])}\n",
      "{'gold': 0.0, 'hp': 60, 'shop': array([1, 2, 3, 2, 3])}\n",
      "{'gold': 0.0, 'hp': 60, 'shop': array([1, 2, 3, 2, 3])}\n",
      "{'gold': 0.0, 'hp': 60, 'shop': array([1, 2, 3, 2, 3])}\n",
      "{'gold': 0.0, 'hp': 50, 'shop': array([1, 2, 3, 2, 3])}\n",
      "{'gold': 0.0, 'hp': 50, 'shop': array([1, 2, 3, 2, 3])}\n",
      "{'gold': 0.0, 'hp': 50, 'shop': array([1, 2, 3, 2, 3])}\n",
      "{'gold': 0.0, 'hp': 50, 'shop': array([1, 2, 3, 2, 3])}\n",
      "{'gold': 0.0, 'hp': 40, 'shop': array([1, 2, 3, 2, 3])}\n",
      "{'gold': 0.0, 'hp': 40, 'shop': array([1, 2, 3, 2, 3])}\n",
      "{'gold': 0.0, 'hp': 40, 'shop': array([1, 2, 3, 2, 3])}\n",
      "{'gold': 0.0, 'hp': 40, 'shop': array([1, 2, 3, 2, 3])}\n",
      "{'gold': 0.0, 'hp': 40, 'shop': array([1, 2, 3, 2, 3])}\n",
      "{'gold': 0.0, 'hp': 40, 'shop': array([1, 2, 3, 2, 3])}\n",
      "{'gold': 0.0, 'hp': 40, 'shop': array([1, 2, 3, 2, 3])}\n",
      "{'gold': 0.0, 'hp': 40, 'shop': array([1, 2, 3, 2, 3])}\n",
      "{'gold': 0.0, 'hp': 40, 'shop': array([1, 2, 3, 2, 3])}\n",
      "{'gold': 0.0, 'hp': 40, 'shop': array([1, 2, 3, 2, 3])}\n",
      "{'gold': 0.0, 'hp': 40, 'shop': array([1, 2, 3, 2, 3])}\n",
      "{'gold': 0.0, 'hp': 40, 'shop': array([1, 2, 3, 2, 3])}\n",
      "{'gold': 0.0, 'hp': 40, 'shop': array([1, 2, 3, 2, 3])}\n",
      "{'gold': 0.0, 'hp': 40, 'shop': array([1, 2, 3, 2, 3])}\n",
      "{'gold': 0.0, 'hp': 40, 'shop': array([1, 2, 3, 2, 3])}\n",
      "{'gold': 0.0, 'hp': 40, 'shop': array([1, 2, 3, 2, 3])}\n",
      "{'gold': 0.0, 'hp': 40, 'shop': array([1, 2, 3, 2, 3])}\n",
      "{'gold': 0.0, 'hp': 40, 'shop': array([1, 2, 3, 2, 3])}\n",
      "{'gold': 0.0, 'hp': 40, 'shop': array([1, 2, 3, 2, 3])}\n",
      "{'gold': 0.0, 'hp': 40, 'shop': array([1, 2, 3, 2, 3])}\n",
      "{'gold': 0.0, 'hp': 40, 'shop': array([1, 2, 3, 2, 3])}\n",
      "{'gold': 0.0, 'hp': 40, 'shop': array([1, 2, 3, 2, 3])}\n",
      "{'gold': 0.0, 'hp': 40, 'shop': array([1, 2, 3, 2, 3])}\n",
      "{'gold': 0.0, 'hp': 30, 'shop': array([1, 2, 3, 2, 3])}\n",
      "{'gold': 0.0, 'hp': 30, 'shop': array([1, 2, 3, 2, 3])}\n",
      "{'gold': 0.0, 'hp': 30, 'shop': array([1, 2, 3, 2, 3])}\n",
      "{'gold': 0.0, 'hp': 30, 'shop': array([1, 2, 3, 2, 3])}\n",
      "{'gold': 0.0, 'hp': 30, 'shop': array([1, 2, 3, 2, 3])}\n",
      "{'gold': 0.0, 'hp': 30, 'shop': array([1, 2, 3, 2, 3])}\n",
      "{'gold': 0.0, 'hp': 30, 'shop': array([1, 2, 3, 2, 3])}\n",
      "{'gold': 0.0, 'hp': 30, 'shop': array([1, 2, 3, 2, 3])}\n",
      "{'gold': 0.0, 'hp': 30, 'shop': array([1, 2, 3, 2, 3])}\n",
      "{'gold': 0.0, 'hp': 30, 'shop': array([1, 2, 3, 2, 3])}\n",
      "{'gold': 0.0, 'hp': 30, 'shop': array([1, 2, 3, 2, 3])}\n",
      "{'gold': 0.0, 'hp': 30, 'shop': array([1, 2, 3, 2, 3])}\n",
      "{'gold': 0.0, 'hp': 30, 'shop': array([1, 2, 3, 2, 3])}\n",
      "{'gold': 0.0, 'hp': 30, 'shop': array([1, 2, 3, 2, 3])}\n",
      "{'gold': 0.0, 'hp': 30, 'shop': array([1, 2, 3, 2, 3])}\n",
      "{'gold': 0.0, 'hp': 30, 'shop': array([1, 2, 3, 2, 3])}\n",
      "{'gold': 0.0, 'hp': 30, 'shop': array([1, 2, 3, 2, 3])}\n",
      "{'gold': 0.0, 'hp': 30, 'shop': array([1, 2, 3, 2, 3])}\n",
      "{'gold': 0.0, 'hp': 30, 'shop': array([1, 2, 3, 2, 3])}\n",
      "{'gold': 0.0, 'hp': 30, 'shop': array([1, 2, 3, 2, 3])}\n",
      "{'gold': 0.0, 'hp': 30, 'shop': array([1, 2, 3, 2, 3])}\n",
      "{'gold': 0.0, 'hp': 30, 'shop': array([1, 2, 3, 2, 3])}\n",
      "{'gold': 0.0, 'hp': 30, 'shop': array([1, 2, 3, 2, 3])}\n",
      "{'gold': 0.0, 'hp': 30, 'shop': array([1, 2, 3, 2, 3])}\n",
      "{'gold': 0.0, 'hp': 30, 'shop': array([1, 2, 3, 2, 3])}\n",
      "{'gold': 0.0, 'hp': 30, 'shop': array([1, 2, 3, 2, 3])}\n",
      "{'gold': 0.0, 'hp': 30, 'shop': array([1, 2, 3, 2, 3])}\n",
      "{'gold': 0.0, 'hp': 30, 'shop': array([1, 2, 3, 2, 3])}\n",
      "{'gold': 0.0, 'hp': 30, 'shop': array([1, 2, 3, 2, 3])}\n",
      "{'gold': 0.0, 'hp': 30, 'shop': array([1, 2, 3, 2, 3])}\n",
      "{'gold': 0.0, 'hp': 30, 'shop': array([1, 2, 3, 2, 3])}\n",
      "{'gold': 0.0, 'hp': 30, 'shop': array([1, 2, 3, 2, 3])}\n",
      "{'gold': 0.0, 'hp': 30, 'shop': array([1, 2, 3, 2, 3])}\n",
      "{'gold': 0.0, 'hp': 20, 'shop': array([1, 2, 3, 2, 3])}\n",
      "{'gold': 0.0, 'hp': 20, 'shop': array([1, 2, 3, 2, 3])}\n",
      "{'gold': 0.0, 'hp': 20, 'shop': array([1, 2, 3, 2, 3])}\n",
      "{'gold': 0.0, 'hp': 20, 'shop': array([1, 2, 3, 2, 3])}\n",
      "{'gold': 0.0, 'hp': 10, 'shop': array([1, 2, 3, 2, 3])}\n",
      "{'gold': 0.0, 'hp': 10, 'shop': array([1, 2, 3, 2, 3])}\n",
      "{'gold': 0.0, 'hp': 10, 'shop': array([1, 2, 3, 2, 3])}\n",
      "{'gold': 0.0, 'hp': 10, 'shop': array([1, 2, 3, 2, 3])}\n",
      "{'gold': 0.0, 'hp': 10, 'shop': array([1, 2, 3, 2, 3])}\n",
      "{'gold': 0.0, 'hp': 10, 'shop': array([1, 2, 3, 2, 3])}\n",
      "{'gold': 0.0, 'hp': 10, 'shop': array([1, 2, 3, 2, 3])}\n",
      "{'gold': 0.0, 'hp': 10, 'shop': array([1, 2, 3, 2, 3])}\n",
      "{'gold': 0.0, 'hp': 10, 'shop': array([1, 2, 3, 2, 3])}\n",
      "{'gold': 0.0, 'hp': 10, 'shop': array([1, 2, 3, 2, 3])}\n",
      "{'gold': 0.0, 'hp': 10, 'shop': array([1, 2, 3, 2, 3])}\n",
      "{'gold': 0.0, 'hp': 10, 'shop': array([1, 2, 3, 2, 3])}\n",
      "{'gold': 0.0, 'hp': 10, 'shop': array([1, 2, 3, 2, 3])}\n",
      "{'gold': 0.0, 'hp': 10, 'shop': array([1, 2, 3, 2, 3])}\n",
      "{'gold': 0.0, 'hp': 10, 'shop': array([1, 2, 3, 2, 3])}\n",
      "{'gold': 0.0, 'hp': 10, 'shop': array([1, 2, 3, 2, 3])}\n",
      "{'gold': 0.0, 'hp': 10, 'shop': array([1, 2, 3, 2, 3])}\n",
      "{'gold': 0.0, 'hp': 10, 'shop': array([1, 2, 3, 2, 3])}\n",
      "{'gold': 0.0, 'hp': 10, 'shop': array([1, 2, 3, 2, 3])}\n",
      "{'gold': 0.0, 'hp': 10, 'shop': array([1, 2, 3, 2, 3])}\n",
      "{'gold': 0.0, 'hp': 10, 'shop': array([1, 2, 3, 2, 3])}\n",
      "{'gold': 0.0, 'hp': 10, 'shop': array([1, 2, 3, 2, 3])}\n",
      "{'gold': 0.0, 'hp': 10, 'shop': array([1, 2, 3, 2, 3])}\n",
      "{'gold': 0.0, 'hp': 10, 'shop': array([1, 2, 3, 2, 3])}\n",
      "{'gold': 0.0, 'hp': 10, 'shop': array([1, 2, 3, 2, 3])}\n",
      "{'gold': 0.0, 'hp': 10, 'shop': array([1, 2, 3, 2, 3])}\n",
      "{'gold': 0.0, 'hp': 10, 'shop': array([1, 2, 3, 2, 3])}\n",
      "{'gold': 0.0, 'hp': 10, 'shop': array([1, 2, 3, 2, 3])}\n",
      "{'gold': 0.0, 'hp': 10, 'shop': array([1, 2, 3, 2, 3])}\n",
      "{'gold': 0.0, 'hp': 10, 'shop': array([1, 2, 3, 2, 3])}\n",
      "{'gold': 0.0, 'hp': 10, 'shop': array([1, 2, 3, 2, 3])}\n",
      "{'gold': 0.0, 'hp': 10, 'shop': array([1, 2, 3, 2, 3])}\n",
      "{'gold': 0.0, 'hp': 10, 'shop': array([1, 2, 3, 2, 3])}\n",
      "{'gold': 0.0, 'hp': 10, 'shop': array([1, 2, 3, 2, 3])}\n",
      "{'gold': 0.0, 'hp': 10, 'shop': array([1, 2, 3, 2, 3])}\n",
      "{'gold': 0.0, 'hp': 10, 'shop': array([1, 2, 3, 2, 3])}\n",
      "{'gold': 0.0, 'hp': 10, 'shop': array([1, 2, 3, 2, 3])}\n",
      "{'gold': 0.0, 'hp': 10, 'shop': array([1, 2, 3, 2, 3])}\n",
      "{'gold': 0.0, 'hp': 10, 'shop': array([1, 2, 3, 2, 3])}\n",
      "{'gold': 0.0, 'hp': 10, 'shop': array([1, 2, 3, 2, 3])}\n",
      "{'gold': 0.0, 'hp': 0, 'shop': array([1, 2, 3, 2, 3])}\n"
     ]
    }
   ],
   "source": [
    "import gymnasium as gym\n",
    "env = TFTEnv()\n",
    "\n",
    "obs, _ = env.reset()\n",
    "\n",
    "done = False\n",
    "while not done:\n",
    "    action = env.action_space.sample()  # RANDOM ACTIONS (FOR NOW).\n",
    "    obs, reward, done, truncated, info = env.step(action)\n",
    "    print(obs)\n"
   ]
  },
  {
   "cell_type": "code",
   "execution_count": null,
   "metadata": {},
   "outputs": [],
   "source": []
  },
  {
   "cell_type": "code",
   "execution_count": null,
   "metadata": {},
   "outputs": [],
   "source": []
  }
 ],
 "metadata": {
  "colab": {
   "provenance": []
  },
  "kernelspec": {
   "display_name": "Python 3",
   "name": "python3"
  },
  "language_info": {
   "codemirror_mode": {
    "name": "ipython",
    "version": 3
   },
   "file_extension": ".py",
   "mimetype": "text/x-python",
   "name": "python",
   "nbconvert_exporter": "python",
   "pygments_lexer": "ipython3",
   "version": "3.12.3"
  }
 },
 "nbformat": 4,
 "nbformat_minor": 0
}
